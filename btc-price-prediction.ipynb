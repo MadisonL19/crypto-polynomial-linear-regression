{
 "cells": [
  {
   "cell_type": "code",
   "execution_count": 27,
   "metadata": {},
   "outputs": [],
   "source": [
    "import numpy as np\n",
    "import pandas as pd\n",
    "import yfinance as yf\n",
    "import matplotlib.pyplot as plt"
   ]
  },
  {
   "cell_type": "code",
   "execution_count": 28,
   "metadata": {},
   "outputs": [],
   "source": [
    "%matplotlib inline"
   ]
  },
  {
   "cell_type": "code",
   "execution_count": 29,
   "metadata": {},
   "outputs": [
    {
     "name": "stdout",
     "output_type": "stream",
     "text": [
      "[*********************100%***********************]  1 of 1 completed\n"
     ]
    }
   ],
   "source": [
    "btc = yf.download(tickers='BTC-USD', period='2y', interval = '1h')"
   ]
  },
  {
   "cell_type": "code",
   "execution_count": 30,
   "metadata": {},
   "outputs": [],
   "source": [
    "btc.reset_index(inplace=True)\n",
    "btc.rename(columns = {'index':'Date'}, inplace = True)\n",
    "btc.reset_index(inplace=True)\n",
    "#btc['Date'] = pd.to_datetime(btc['Date'])\n",
    "#btc.set_index('Date')"
   ]
  },
  {
   "cell_type": "code",
   "execution_count": 31,
   "metadata": {},
   "outputs": [
    {
     "data": {
      "text/html": [
       "<div>\n",
       "<style scoped>\n",
       "    .dataframe tbody tr th:only-of-type {\n",
       "        vertical-align: middle;\n",
       "    }\n",
       "\n",
       "    .dataframe tbody tr th {\n",
       "        vertical-align: top;\n",
       "    }\n",
       "\n",
       "    .dataframe thead th {\n",
       "        text-align: right;\n",
       "    }\n",
       "</style>\n",
       "<table border=\"1\" class=\"dataframe\">\n",
       "  <thead>\n",
       "    <tr style=\"text-align: right;\">\n",
       "      <th></th>\n",
       "      <th>index</th>\n",
       "      <th>Date</th>\n",
       "      <th>Open</th>\n",
       "      <th>High</th>\n",
       "      <th>Low</th>\n",
       "      <th>Close</th>\n",
       "      <th>Adj Close</th>\n",
       "      <th>Volume</th>\n",
       "    </tr>\n",
       "  </thead>\n",
       "  <tbody>\n",
       "    <tr>\n",
       "      <th>0</th>\n",
       "      <td>0</td>\n",
       "      <td>2019-04-14 02:00:00+01:00</td>\n",
       "      <td>5090.080078</td>\n",
       "      <td>5099.529785</td>\n",
       "      <td>5084.970215</td>\n",
       "      <td>5084.970215</td>\n",
       "      <td>5084.970215</td>\n",
       "      <td>0</td>\n",
       "    </tr>\n",
       "    <tr>\n",
       "      <th>1</th>\n",
       "      <td>1</td>\n",
       "      <td>2019-04-14 03:00:00+01:00</td>\n",
       "      <td>5084.950195</td>\n",
       "      <td>5094.080078</td>\n",
       "      <td>5065.470215</td>\n",
       "      <td>5066.819824</td>\n",
       "      <td>5066.819824</td>\n",
       "      <td>2978098</td>\n",
       "    </tr>\n",
       "    <tr>\n",
       "      <th>2</th>\n",
       "      <td>2</td>\n",
       "      <td>2019-04-14 04:00:00+01:00</td>\n",
       "      <td>5068.560059</td>\n",
       "      <td>5080.439941</td>\n",
       "      <td>5061.700195</td>\n",
       "      <td>5065.959961</td>\n",
       "      <td>5065.959961</td>\n",
       "      <td>3356457</td>\n",
       "    </tr>\n",
       "    <tr>\n",
       "      <th>3</th>\n",
       "      <td>3</td>\n",
       "      <td>2019-04-14 05:00:00+01:00</td>\n",
       "      <td>5067.060059</td>\n",
       "      <td>5076.270020</td>\n",
       "      <td>5053.640137</td>\n",
       "      <td>5063.160156</td>\n",
       "      <td>5063.160156</td>\n",
       "      <td>2903882</td>\n",
       "    </tr>\n",
       "    <tr>\n",
       "      <th>4</th>\n",
       "      <td>4</td>\n",
       "      <td>2019-04-14 06:00:00+01:00</td>\n",
       "      <td>5063.259766</td>\n",
       "      <td>5067.439941</td>\n",
       "      <td>5034.939941</td>\n",
       "      <td>5059.649902</td>\n",
       "      <td>5059.649902</td>\n",
       "      <td>8203589</td>\n",
       "    </tr>\n",
       "  </tbody>\n",
       "</table>\n",
       "</div>"
      ],
      "text/plain": [
       "   index                      Date         Open         High          Low  \\\n",
       "0      0 2019-04-14 02:00:00+01:00  5090.080078  5099.529785  5084.970215   \n",
       "1      1 2019-04-14 03:00:00+01:00  5084.950195  5094.080078  5065.470215   \n",
       "2      2 2019-04-14 04:00:00+01:00  5068.560059  5080.439941  5061.700195   \n",
       "3      3 2019-04-14 05:00:00+01:00  5067.060059  5076.270020  5053.640137   \n",
       "4      4 2019-04-14 06:00:00+01:00  5063.259766  5067.439941  5034.939941   \n",
       "\n",
       "         Close    Adj Close   Volume  \n",
       "0  5084.970215  5084.970215        0  \n",
       "1  5066.819824  5066.819824  2978098  \n",
       "2  5065.959961  5065.959961  3356457  \n",
       "3  5063.160156  5063.160156  2903882  \n",
       "4  5059.649902  5059.649902  8203589  "
      ]
     },
     "execution_count": 31,
     "metadata": {},
     "output_type": "execute_result"
    }
   ],
   "source": [
    "btc.head()"
   ]
  },
  {
   "cell_type": "code",
   "execution_count": 32,
   "metadata": {},
   "outputs": [
    {
     "data": {
      "text/plain": [
       "[<matplotlib.lines.Line2D at 0x7fa48ba829e8>]"
      ]
     },
     "execution_count": 32,
     "metadata": {},
     "output_type": "execute_result"
    },
    {
     "data": {
      "image/png": "[encoded data removed]",
      "text/plain": [
       "<Figure size 432x288 with 1 Axes>"
      ]
     },
     "metadata": {
      "needs_background": "light"
     },
     "output_type": "display_data"
    }
   ],
   "source": [
    "plt.plot(btc['index'], btc['Close'])"
   ]
  },
  {
   "cell_type": "markdown",
   "metadata": {},
   "source": [
    "We can see that the price movement of bitcoin has been exponential in recent history,therefore, we will use polynomial linear regression."
   ]
  },
  {
   "cell_type": "code",
   "execution_count": 33,
   "metadata": {},
   "outputs": [],
   "source": [
    "dataset = btc[['index', 'Volume', 'Close']]"
   ]
  },
  {
   "cell_type": "code",
   "execution_count": 34,
   "metadata": {},
   "outputs": [],
   "source": [
    "# Vectorize the dataset\n",
    "X = dataset.iloc[:, 0].values.reshape(-1, 1)\n",
    "y = dataset.iloc[:, -1].values"
   ]
  },
  {
   "cell_type": "code",
   "execution_count": 35,
   "metadata": {},
   "outputs": [
    {
     "data": {
      "text/plain": [
       "LinearRegression()"
      ]
     },
     "execution_count": 35,
     "metadata": {},
     "output_type": "execute_result"
    }
   ],
   "source": [
    "# Train the Linear Regression Model on the whole dataset\n",
    "from sklearn.linear_model import LinearRegression\n",
    "# Create instance of LinearRegression class\n",
    "lin_reg = LinearRegression()\n",
    "# Fit the model with entire dataset\n",
    "lin_reg.fit(X, y)"
   ]
  },
  {
   "cell_type": "code",
   "execution_count": 36,
   "metadata": {},
   "outputs": [],
   "source": [
    "# Create matrix of powered features\n",
    "from sklearn.preprocessing import PolynomialFeatures\n",
    "# Create instance of PolynomialFeatures class with starting n\n",
    "poly_reg = PolynomialFeatures(degree = 2)\n",
    "# Tranform simple vectors into matrix of features\n",
    "X_poly = poly_reg.fit_transform(X)"
   ]
  },
  {
   "cell_type": "code",
   "execution_count": 37,
   "metadata": {},
   "outputs": [
    {
     "data": {
      "text/plain": [
       "LinearRegression()"
      ]
     },
     "execution_count": 37,
     "metadata": {},
     "output_type": "execute_result"
    }
   ],
   "source": [
    "# Train LinearRegression model with new matrix of features\n",
    "# Create new instance of LinearRegression class\n",
    "lin_reg_2 = LinearRegression()\n",
    "# Train model on new matrix of features\n",
    "lin_reg_2.fit(X_poly, y)"
   ]
  },
  {
   "cell_type": "code",
   "execution_count": 38,
   "metadata": {},
   "outputs": [
    {
     "data": {
      "image/png": "[encoded data removed]",
      "text/plain": [
       "<Figure size 432x288 with 1 Axes>"
      ]
     },
     "metadata": {
      "needs_background": "light"
     },
     "output_type": "display_data"
    }
   ],
   "source": [
    "# Visualize the Linear Regression results\n",
    "# Plot the \"real\" results\n",
    "plt.scatter(X, y, color=\"red\")\n",
    "# Plot the predicted results\n",
    "plt.plot(X, lin_reg.predict(X), color=\"blue\")\n",
    "plt.title('Bitcoin Price Prediction')\n",
    "plt.xlabel('Volume')\n",
    "plt.ylabel('Close Price')\n",
    "plt.show()"
   ]
  },
  {
   "cell_type": "code",
   "execution_count": 39,
   "metadata": {},
   "outputs": [
    {
     "data": {
      "image/png": "[encoded data removed]",
      "text/plain": [
       "<Figure size 432x288 with 1 Axes>"
      ]
     },
     "metadata": {
      "needs_background": "light"
     },
     "output_type": "display_data"
    }
   ],
   "source": [
    "# Visualize the Polynomial Linear Regression results\n",
    "# Plot the \"real\" results\n",
    "plt.scatter(X, y, color=\"red\")\n",
    "# Plot the predicted results\n",
    "plt.plot(X, lin_reg_2.predict(X_poly), color=\"blue\")\n",
    "plt.title('Bitcoin Price Prediction')\n",
    "plt.xlabel('Volume')\n",
    "plt.ylabel('Close Price')\n",
    "plt.show()"
   ]
  },
  {
   "cell_type": "code",
   "execution_count": 40,
   "metadata": {},
   "outputs": [
    {
     "data": {
      "text/plain": [
       "LinearRegression()"
      ]
     },
     "execution_count": 40,
     "metadata": {},
     "output_type": "execute_result"
    }
   ],
   "source": [
    "# Retrain Polynomial Regression Model with higher degree to see if we can get a more acccurate result\n",
    "# Create matrix of powered features\n",
    "from sklearn.preprocessing import PolynomialFeatures\n",
    "# Create instance of PolynomialFeatures class with starting n\n",
    "poly_reg = PolynomialFeatures(degree = 4)\n",
    "# Tranform simple vectors into matrix of features\n",
    "X_poly = poly_reg.fit_transform(X)\n",
    "# Train LinearRegression model with new matrix of features\n",
    "# Create new instance of LinearRegression class\n",
    "lin_reg_2 = LinearRegression()\n",
    "# Train model on new matrix of features\n",
    "lin_reg_2.fit(X_poly, y)"
   ]
  },
  {
   "cell_type": "code",
   "execution_count": 41,
   "metadata": {},
   "outputs": [
    {
     "data": {
      "image/png": "[encoded data removed]",
      "text/plain": [
       "<Figure size 432x288 with 1 Axes>"
      ]
     },
     "metadata": {
      "needs_background": "light"
     },
     "output_type": "display_data"
    }
   ],
   "source": [
    "# Visualize the Polynomial Linear Regression results\n",
    "# Plot the \"real\" results\n",
    "plt.scatter(X, y, color=\"red\")\n",
    "# Plot the predicted results\n",
    "plt.plot(X, lin_reg_2.predict(X_poly), color=\"blue\")\n",
    "plt.title('Bitcoin Price Prediction')\n",
    "plt.xlabel('Volume')\n",
    "plt.ylabel('Close Price')\n",
    "plt.show()"
   ]
  },
  {
   "cell_type": "code",
   "execution_count": 47,
   "metadata": {},
   "outputs": [
    {
     "data": {
      "text/plain": [
       "array([70769.38466323])"
      ]
     },
     "execution_count": 47,
     "metadata": {},
     "output_type": "execute_result"
    }
   ],
   "source": [
    "# Predict a new result with Polynomial Regression\n",
    "# Let's use 7 days out, so we need to first find the last index\n",
    "max_index = btc['index'].max()\n",
    "index_shift_7 = max_index + (7 * 24)\n",
    "lin_reg_2.predict(poly_reg.fit_transform([[index_shift_7]]))"
   ]
  },
  {
   "cell_type": "markdown",
   "metadata": {},
   "source": [
    "April 20th, 2021: The price prediction for Bitcoin is $70,769"
   ]
  },
  {
   "cell_type": "code",
   "execution_count": null,
   "metadata": {},
   "outputs": [],
   "source": []
  }
 ],
 "metadata": {
  "kernelspec": {
   "display_name": "Python [conda env:PythonCrypto]",
   "language": "python",
   "name": "conda-env-PythonCrypto-py"
  },
  "language_info": {
   "codemirror_mode": {
    "name": "ipython",
    "version": 3
   },
   "file_extension": ".py",
   "mimetype": "text/x-python",
   "name": "python",
   "nbconvert_exporter": "python",
   "pygments_lexer": "ipython3",
   "version": "3.6.13"
  }
 },
 "nbformat": 4,
 "nbformat_minor": 4
}
